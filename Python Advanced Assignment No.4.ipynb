{
 "cells": [
  {
   "cell_type": "markdown",
   "id": "51780cf3",
   "metadata": {},
   "source": [
    "1) Which two operator overloading methods can you use in your classes to support iteration?\n",
    "\n",
    ":- __iter__ returns the iterator objects & it is called as start of loop\n",
    "   __next__ returns to the next value & it is know as each loop increment"
   ]
  },
  {
   "cell_type": "markdown",
   "id": "2d1e12fb",
   "metadata": {},
   "source": [
    "2) In what contexts do the two operator overloading methods manage printing?\n",
    "\n",
    ":- __init__ & __str__"
   ]
  },
  {
   "cell_type": "markdown",
   "id": "cf67aa1c",
   "metadata": {},
   "source": [
    "3) In a class how do you intercept slice operation?\n",
    "\n",
    ":- __setslice__ & __delslice__"
   ]
  },
  {
   "cell_type": "markdown",
   "id": "d5e17b47",
   "metadata": {},
   "source": [
    "4) In class how do you capture in-place addition?\n",
    "\n",
    ":- iadd() - It is used to assgin & add the current value "
   ]
  },
  {
   "cell_type": "markdown",
   "id": "11a97a4e",
   "metadata": {},
   "source": [
    "5) When is it appropriate to use operator overloading?\n",
    "\n",
    ":- When we trying to create same independent function in a same class at that point operator overloading is used."
   ]
  }
 ],
 "metadata": {
  "kernelspec": {
   "display_name": "Python 3 (ipykernel)",
   "language": "python",
   "name": "python3"
  },
  "language_info": {
   "codemirror_mode": {
    "name": "ipython",
    "version": 3
   },
   "file_extension": ".py",
   "mimetype": "text/x-python",
   "name": "python",
   "nbconvert_exporter": "python",
   "pygments_lexer": "ipython3",
   "version": "3.9.7"
  }
 },
 "nbformat": 4,
 "nbformat_minor": 5
}
